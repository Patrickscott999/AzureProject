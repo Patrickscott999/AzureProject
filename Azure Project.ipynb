{
    "metadata": {
        "kernelspec": {
            "name": "SQL",
            "display_name": "SQL",
            "language": "sql"
        },
        "language_info": {
            "name": "sql",
            "version": ""
        }
    },
    "nbformat_minor": 2,
    "nbformat": 4,
    "cells": [
        {
            "cell_type": "markdown",
            "source": [
                "# **_<u>1\\. Distribution of Players by Preferred Foot</u>_**\n",
                "_A pie chart showing the distribution of players based on their preferred foot (left or right). This visualization helps understand the proportion of left-footed versus right-footed players that are from England._"
            ],
            "metadata": {
                "language": "sql",
                "azdata_cell_guid": "f143a3bd-cbaf-43c5-a828-b2b80b9d107a"
            },
            "attachments": {}
        },
        {
            "cell_type": "code",
            "source": [
                "SELECT [Preferred Foot], COUNT(*) AS PlayerCount\r\n",
                "FROM [data]\r\n",
                "WHERE Nationality = 'England'\r\n",
                "GROUP BY [Preferred Foot];\r\n",
                "\r\n",
                ""
            ],
            "metadata": {
                "azdata_cell_guid": "32587692-313a-4986-8f17-6b15cfb05974",
                "language": "sql"
            },
            "outputs": [
                {
                    "output_type": "display_data",
                    "data": {
                        "text/html": "(3 rows affected)"
                    },
                    "metadata": {}
                },
                {
                    "output_type": "display_data",
                    "data": {
                        "text/html": "Total execution time: 00:00:00.022"
                    },
                    "metadata": {}
                },
                {
                    "output_type": "execute_result",
                    "execution_count": 9,
                    "data": {
                        "application/vnd.dataresource+json": {
                            "schema": {
                                "fields": [
                                    {
                                        "name": "Preferred Foot"
                                    },
                                    {
                                        "name": "PlayerCount"
                                    }
                                ]
                            },
                            "data": [
                                {
                                    "Preferred Foot": "Left",
                                    "PlayerCount": "386"
                                },
                                {
                                    "Preferred Foot": "Right",
                                    "PlayerCount": "1271"
                                },
                                {
                                    "Preferred Foot": "",
                                    "PlayerCount": "5"
                                }
                            ]
                        },
                        "text/html": "<table><tr><th>Preferred Foot</th><th>PlayerCount</th></tr><tr><td>Left</td><td>386</td></tr><tr><td>Right</td><td>1271</td></tr><tr><td></td><td>5</td></tr></table>"
                    },
                    "metadata": {
                        "azdata_chartOptions": {
                            "type": "pie",
                            "dataDirection": "vertical",
                            "columnsAsLabels": true,
                            "labelFirstColumn": false,
                            "legendPosition": "top"
                        }
                    }
                }
            ],
            "execution_count": 9
        },
        {
            "cell_type": "markdown",
            "source": [
                "# **_<u>2\\. Showing the top 50 fastest Spanish players in the dataset</u>_**\n",
                "_This query retrieves the top 50 Spanish players from the `[data]` table based on their average sprint speed, provided that their average sprint speed is greater than 80. The query converts the `SprintSpeed` values to integers for accurate average calculation. The results are sorted in descending order of average sprint speed, ensuring that the fastest players appear first._\n",
                "_This query can be useful for identifying the fastest Spanish players in the dataset and can be visualized with a bar chart to show the top 50 Spanish players with their average sprint speeds._"
            ],
            "metadata": {
                "language": "sql",
                "azdata_cell_guid": "43f74b87-136e-457d-9591-c422d08ff6d5"
            },
            "attachments": {}
        },
        {
            "cell_type": "code",
            "source": [
                "SELECT top 50 [Name], AVG(CAST(SprintSpeed AS int)) AS AvgSprintSpeed\r\n",
                "FROM [data]\r\n",
                "WHERE [Nationality] = 'Spain'\r\n",
                "GROUP BY [Name]\r\n",
                "HAVING AVG(CAST(SprintSpeed AS int )) > 80\r\n",
                "ORDER BY AvgSprintSpeed DESC;"
            ],
            "metadata": {
                "azdata_cell_guid": "bea253cb-0a2d-499c-8228-159daa5a13a3",
                "language": "sql"
            },
            "outputs": [
                {
                    "output_type": "display_data",
                    "data": {
                        "text/html": "(50 rows affected)"
                    },
                    "metadata": {}
                },
                {
                    "output_type": "display_data",
                    "data": {
                        "text/html": "Total execution time: 00:00:00.007"
                    },
                    "metadata": {}
                },
                {
                    "output_type": "execute_result",
                    "execution_count": 20,
                    "data": {
                        "application/vnd.dataresource+json": {
                            "schema": {
                                "fields": [
                                    {
                                        "name": "Name"
                                    },
                                    {
                                        "name": "AvgSprintSpeed"
                                    }
                                ]
                            },
                            "data": [
                                {
                                    "Name": "Adama",
                                    "AvgSprintSpeed": "96"
                                },
                                {
                                    "Name": "Williams",
                                    "AvgSprintSpeed": "94"
                                },
                                {
                                    "Name": "Jordi Alba",
                                    "AvgSprintSpeed": "93"
                                },
                                {
                                    "Name": "Aleix Vidal",
                                    "AvgSprintSpeed": "93"
                                },
                                {
                                    "Name": "Vadillo",
                                    "AvgSprintSpeed": "93"
                                },
                                {
                                    "Name": "FernÃ¡ndez",
                                    "AvgSprintSpeed": "92"
                                },
                                {
                                    "Name": "Gerard ValentÃ­n",
                                    "AvgSprintSpeed": "92"
                                },
                                {
                                    "Name": "Pol ValentÃ­n",
                                    "AvgSprintSpeed": "92"
                                },
                                {
                                    "Name": "Juan Villar",
                                    "AvgSprintSpeed": "91"
                                },
                                {
                                    "Name": "HÃ©ctor BellerÃ­n",
                                    "AvgSprintSpeed": "91"
                                },
                                {
                                    "Name": "Rodrigo",
                                    "AvgSprintSpeed": "91"
                                },
                                {
                                    "Name": "FerrÃ¡n Giner",
                                    "AvgSprintSpeed": "90"
                                },
                                {
                                    "Name": "Cristian Tello",
                                    "AvgSprintSpeed": "89"
                                },
                                {
                                    "Name": "De Marcos",
                                    "AvgSprintSpeed": "89"
                                },
                                {
                                    "Name": "JosÃ© CallejÃ³n",
                                    "AvgSprintSpeed": "89"
                                },
                                {
                                    "Name": "Luis PÃ©rez",
                                    "AvgSprintSpeed": "89"
                                },
                                {
                                    "Name": "IÃ±igo MuÃ±oz",
                                    "AvgSprintSpeed": "88"
                                },
                                {
                                    "Name": "Jordi Mboula",
                                    "AvgSprintSpeed": "88"
                                },
                                {
                                    "Name": "JesÃºs Navas",
                                    "AvgSprintSpeed": "88"
                                },
                                {
                                    "Name": "Deulofeu",
                                    "AvgSprintSpeed": "88"
                                },
                                {
                                    "Name": "Mario Hermoso",
                                    "AvgSprintSpeed": "88"
                                },
                                {
                                    "Name": "Morales",
                                    "AvgSprintSpeed": "88"
                                },
                                {
                                    "Name": "RubÃ©n PeÃ±a",
                                    "AvgSprintSpeed": "88"
                                },
                                {
                                    "Name": "Salvi SÃ¡nchez",
                                    "AvgSprintSpeed": "88"
                                },
                                {
                                    "Name": "Alberto Moreno",
                                    "AvgSprintSpeed": "87"
                                },
                                {
                                    "Name": "GayÃ ",
                                    "AvgSprintSpeed": "87"
                                },
                                {
                                    "Name": "IvÃ¡n SÃ¡nchez",
                                    "AvgSprintSpeed": "87"
                                },
                                {
                                    "Name": "RaÃºl CÃ¡mara",
                                    "AvgSprintSpeed": "87"
                                },
                                {
                                    "Name": "IvÃ¡n Alejo",
                                    "AvgSprintSpeed": "86"
                                },
                                {
                                    "Name": "Capa",
                                    "AvgSprintSpeed": "86"
                                },
                                {
                                    "Name": "Aitor GarcÃ­a",
                                    "AvgSprintSpeed": "86"
                                },
                                {
                                    "Name": "Morata",
                                    "AvgSprintSpeed": "86"
                                },
                                {
                                    "Name": "Pablo Maffeo",
                                    "AvgSprintSpeed": "86"
                                },
                                {
                                    "Name": "RubÃ©n Sobrino",
                                    "AvgSprintSpeed": "86"
                                },
                                {
                                    "Name": "Samu Castillejo",
                                    "AvgSprintSpeed": "86"
                                },
                                {
                                    "Name": "Jordi Calavera",
                                    "AvgSprintSpeed": "85"
                                },
                                {
                                    "Name": "Jony",
                                    "AvgSprintSpeed": "85"
                                },
                                {
                                    "Name": "Dani Nieto",
                                    "AvgSprintSpeed": "85"
                                },
                                {
                                    "Name": "Cucurella",
                                    "AvgSprintSpeed": "85"
                                },
                                {
                                    "Name": "AngeliÃ±o",
                                    "AvgSprintSpeed": "85"
                                },
                                {
                                    "Name": "Luis Valcarce",
                                    "AvgSprintSpeed": "85"
                                },
                                {
                                    "Name": "Paco MontaÃ±Ã©s",
                                    "AvgSprintSpeed": "85"
                                },
                                {
                                    "Name": "Querol",
                                    "AvgSprintSpeed": "85"
                                },
                                {
                                    "Name": "Borja Llarena",
                                    "AvgSprintSpeed": "84"
                                },
                                {
                                    "Name": "David Ferreiro",
                                    "AvgSprintSpeed": "84"
                                },
                                {
                                    "Name": "Carvajal",
                                    "AvgSprintSpeed": "84"
                                },
                                {
                                    "Name": "Edgar MÃ©ndez",
                                    "AvgSprintSpeed": "84"
                                },
                                {
                                    "Name": "Jairo",
                                    "AvgSprintSpeed": "84"
                                },
                                {
                                    "Name": "Iriome",
                                    "AvgSprintSpeed": "84"
                                },
                                {
                                    "Name": "Lekue",
                                    "AvgSprintSpeed": "84"
                                }
                            ]
                        },
                        "text/html": "<table><tr><th>Name</th><th>AvgSprintSpeed</th></tr><tr><td>Adama</td><td>96</td></tr><tr><td>Williams</td><td>94</td></tr><tr><td>Jordi Alba</td><td>93</td></tr><tr><td>Aleix Vidal</td><td>93</td></tr><tr><td>Vadillo</td><td>93</td></tr><tr><td>FernÃ¡ndez</td><td>92</td></tr><tr><td>Gerard ValentÃ­n</td><td>92</td></tr><tr><td>Pol ValentÃ­n</td><td>92</td></tr><tr><td>Juan Villar</td><td>91</td></tr><tr><td>HÃ©ctor BellerÃ­n</td><td>91</td></tr><tr><td>Rodrigo</td><td>91</td></tr><tr><td>FerrÃ¡n Giner</td><td>90</td></tr><tr><td>Cristian Tello</td><td>89</td></tr><tr><td>De Marcos</td><td>89</td></tr><tr><td>JosÃ© CallejÃ³n</td><td>89</td></tr><tr><td>Luis PÃ©rez</td><td>89</td></tr><tr><td>IÃ±igo MuÃ±oz</td><td>88</td></tr><tr><td>Jordi Mboula</td><td>88</td></tr><tr><td>JesÃºs Navas</td><td>88</td></tr><tr><td>Deulofeu</td><td>88</td></tr><tr><td>Mario Hermoso</td><td>88</td></tr><tr><td>Morales</td><td>88</td></tr><tr><td>RubÃ©n PeÃ±a</td><td>88</td></tr><tr><td>Salvi SÃ¡nchez</td><td>88</td></tr><tr><td>Alberto Moreno</td><td>87</td></tr><tr><td>GayÃ </td><td>87</td></tr><tr><td>IvÃ¡n SÃ¡nchez</td><td>87</td></tr><tr><td>RaÃºl CÃ¡mara</td><td>87</td></tr><tr><td>IvÃ¡n Alejo</td><td>86</td></tr><tr><td>Capa</td><td>86</td></tr><tr><td>Aitor GarcÃ­a</td><td>86</td></tr><tr><td>Morata</td><td>86</td></tr><tr><td>Pablo Maffeo</td><td>86</td></tr><tr><td>RubÃ©n Sobrino</td><td>86</td></tr><tr><td>Samu Castillejo</td><td>86</td></tr><tr><td>Jordi Calavera</td><td>85</td></tr><tr><td>Jony</td><td>85</td></tr><tr><td>Dani Nieto</td><td>85</td></tr><tr><td>Cucurella</td><td>85</td></tr><tr><td>AngeliÃ±o</td><td>85</td></tr><tr><td>Luis Valcarce</td><td>85</td></tr><tr><td>Paco MontaÃ±Ã©s</td><td>85</td></tr><tr><td>Querol</td><td>85</td></tr><tr><td>Borja Llarena</td><td>84</td></tr><tr><td>David Ferreiro</td><td>84</td></tr><tr><td>Carvajal</td><td>84</td></tr><tr><td>Edgar MÃ©ndez</td><td>84</td></tr><tr><td>Jairo</td><td>84</td></tr><tr><td>Iriome</td><td>84</td></tr><tr><td>Lekue</td><td>84</td></tr></table>"
                    },
                    "metadata": {
                        "azdata_chartOptions": {
                            "type": "bar",
                            "dataDirection": "horizontal",
                            "columnsAsLabels": true,
                            "labelFirstColumn": true,
                            "legendPosition": "top"
                        }
                    }
                }
            ],
            "execution_count": 20
        },
        {
            "cell_type": "markdown",
            "source": [
                "# **_<u>3\\. Distribution of Players' Heights</u>_**\n",
                "_A histogram showing the distribution of players' heights. This visualization helps in understanding the spread and common ranges of player heights in the game._"
            ],
            "metadata": {
                "language": "sql",
                "azdata_cell_guid": "dab31f7b-3d52-483d-bfbb-47e9d1068a11"
            },
            "attachments": {}
        },
        {
            "cell_type": "code",
            "source": [
                ""
            ],
            "metadata": {
                "language": "sql",
                "azdata_cell_guid": "a2d2758a-5e67-429c-b374-bb89e500df25"
            },
            "outputs": [
                {
                    "output_type": "display_data",
                    "data": {
                        "text/html": "Commands completed successfully."
                    },
                    "metadata": {}
                },
                {
                    "output_type": "display_data",
                    "data": {
                        "text/html": "Total execution time: 00:00:00"
                    },
                    "metadata": {}
                }
            ],
            "execution_count": 10
        },
        {
            "cell_type": "code",
            "source": [
                "SELECT Height, COUNT(*) AS Frequency\r\n",
                "FROM [data]\r\n",
                "\r\n",
                "GROUP BY Height\r\n",
                "ORDER BY Height;\r\n",
                ""
            ],
            "metadata": {
                "language": "sql",
                "azdata_cell_guid": "3df46382-5a65-417a-afd1-b0d093353547"
            },
            "outputs": [
                {
                    "output_type": "display_data",
                    "data": {
                        "text/html": "(22 rows affected)"
                    },
                    "metadata": {}
                },
                {
                    "output_type": "display_data",
                    "data": {
                        "text/html": "Total execution time: 00:00:00.010"
                    },
                    "metadata": {}
                },
                {
                    "output_type": "execute_result",
                    "execution_count": 13,
                    "data": {
                        "application/vnd.dataresource+json": {
                            "schema": {
                                "fields": [
                                    {
                                        "name": "Height"
                                    },
                                    {
                                        "name": "Frequency"
                                    }
                                ]
                            },
                            "data": [
                                {
                                    "Height": "",
                                    "Frequency": "48"
                                },
                                {
                                    "Height": "5'1",
                                    "Frequency": "3"
                                },
                                {
                                    "Height": "5'10",
                                    "Frequency": "2479"
                                },
                                {
                                    "Height": "5'11",
                                    "Frequency": "2159"
                                },
                                {
                                    "Height": "5'2",
                                    "Frequency": "5"
                                },
                                {
                                    "Height": "5'3",
                                    "Frequency": "18"
                                },
                                {
                                    "Height": "5'4",
                                    "Frequency": "30"
                                },
                                {
                                    "Height": "5'5",
                                    "Frequency": "145"
                                },
                                {
                                    "Height": "5'6",
                                    "Frequency": "316"
                                },
                                {
                                    "Height": "5'7",
                                    "Frequency": "905"
                                },
                                {
                                    "Height": "5'8",
                                    "Frequency": "946"
                                },
                                {
                                    "Height": "5'9",
                                    "Frequency": "2238"
                                },
                                {
                                    "Height": "6'0",
                                    "Frequency": "2881"
                                },
                                {
                                    "Height": "6'1",
                                    "Frequency": "1908"
                                },
                                {
                                    "Height": "6'2",
                                    "Frequency": "2015"
                                },
                                {
                                    "Height": "6'3",
                                    "Frequency": "990"
                                },
                                {
                                    "Height": "6'4",
                                    "Frequency": "749"
                                },
                                {
                                    "Height": "6'5",
                                    "Frequency": "246"
                                },
                                {
                                    "Height": "6'6",
                                    "Frequency": "93"
                                },
                                {
                                    "Height": "6'7",
                                    "Frequency": "21"
                                },
                                {
                                    "Height": "6'8",
                                    "Frequency": "10"
                                },
                                {
                                    "Height": "6'9",
                                    "Frequency": "2"
                                }
                            ]
                        },
                        "text/html": "<table><tr><th>Height</th><th>Frequency</th></tr><tr><td></td><td>48</td></tr><tr><td>5&#39;1</td><td>3</td></tr><tr><td>5&#39;10</td><td>2479</td></tr><tr><td>5&#39;11</td><td>2159</td></tr><tr><td>5&#39;2</td><td>5</td></tr><tr><td>5&#39;3</td><td>18</td></tr><tr><td>5&#39;4</td><td>30</td></tr><tr><td>5&#39;5</td><td>145</td></tr><tr><td>5&#39;6</td><td>316</td></tr><tr><td>5&#39;7</td><td>905</td></tr><tr><td>5&#39;8</td><td>946</td></tr><tr><td>5&#39;9</td><td>2238</td></tr><tr><td>6&#39;0</td><td>2881</td></tr><tr><td>6&#39;1</td><td>1908</td></tr><tr><td>6&#39;2</td><td>2015</td></tr><tr><td>6&#39;3</td><td>990</td></tr><tr><td>6&#39;4</td><td>749</td></tr><tr><td>6&#39;5</td><td>246</td></tr><tr><td>6&#39;6</td><td>93</td></tr><tr><td>6&#39;7</td><td>21</td></tr><tr><td>6&#39;8</td><td>10</td></tr><tr><td>6&#39;9</td><td>2</td></tr></table>"
                    },
                    "metadata": {
                        "azdata_chartOptions": {
                            "type": "bar",
                            "dataDirection": "horizontal",
                            "columnsAsLabels": true,
                            "labelFirstColumn": true,
                            "legendPosition": "top"
                        }
                    }
                }
            ],
            "execution_count": 13
        },
        {
            "cell_type": "markdown",
            "source": [
                "# **_<u>4\\. Average Sprint Speed BY AGE</u>_**\n",
                "_This query calculates the average sprint speed for players grouped by their age. The results are ordered by age, providing a clear view of how sprint speed varies across different ages. The conversion of `SprintSpeed` to an integer ensures that the average calculation is performed correctly._"
            ],
            "metadata": {
                "language": "sql",
                "azdata_cell_guid": "9daee7ce-7bff-42b1-8ce8-1fd2618bfbc9"
            },
            "attachments": {}
        },
        {
            "cell_type": "code",
            "source": [
                "SELECT Age, AVG(CAST(SprintSpeed AS int)) AS AvgSprintSpeed\r\n",
                "FROM [data]\r\n",
                "GROUP BY Age\r\n",
                "ORDER BY Age;\r\n",
                ""
            ],
            "metadata": {
                "azdata_cell_guid": "df9f4057-a6c4-4e7e-ae15-683750846ed8",
                "language": "sql"
            },
            "outputs": [
                {
                    "output_type": "display_data",
                    "data": {
                        "text/html": "(29 rows affected)"
                    },
                    "metadata": {}
                },
                {
                    "output_type": "display_data",
                    "data": {
                        "text/html": "Total execution time: 00:00:00.008"
                    },
                    "metadata": {}
                },
                {
                    "output_type": "execute_result",
                    "execution_count": 18,
                    "data": {
                        "application/vnd.dataresource+json": {
                            "schema": {
                                "fields": [
                                    {
                                        "name": "Age"
                                    },
                                    {
                                        "name": "AvgSprintSpeed"
                                    }
                                ]
                            },
                            "data": [
                                {
                                    "Age": "16",
                                    "AvgSprintSpeed": "63"
                                },
                                {
                                    "Age": "17",
                                    "AvgSprintSpeed": "61"
                                },
                                {
                                    "Age": "18",
                                    "AvgSprintSpeed": "62"
                                },
                                {
                                    "Age": "19",
                                    "AvgSprintSpeed": "63"
                                },
                                {
                                    "Age": "20",
                                    "AvgSprintSpeed": "65"
                                },
                                {
                                    "Age": "21",
                                    "AvgSprintSpeed": "65"
                                },
                                {
                                    "Age": "22",
                                    "AvgSprintSpeed": "66"
                                },
                                {
                                    "Age": "23",
                                    "AvgSprintSpeed": "67"
                                },
                                {
                                    "Age": "24",
                                    "AvgSprintSpeed": "67"
                                },
                                {
                                    "Age": "25",
                                    "AvgSprintSpeed": "67"
                                },
                                {
                                    "Age": "26",
                                    "AvgSprintSpeed": "67"
                                },
                                {
                                    "Age": "27",
                                    "AvgSprintSpeed": "66"
                                },
                                {
                                    "Age": "28",
                                    "AvgSprintSpeed": "66"
                                },
                                {
                                    "Age": "29",
                                    "AvgSprintSpeed": "63"
                                },
                                {
                                    "Age": "30",
                                    "AvgSprintSpeed": "64"
                                },
                                {
                                    "Age": "31",
                                    "AvgSprintSpeed": "62"
                                },
                                {
                                    "Age": "32",
                                    "AvgSprintSpeed": "58"
                                },
                                {
                                    "Age": "33",
                                    "AvgSprintSpeed": "55"
                                },
                                {
                                    "Age": "34",
                                    "AvgSprintSpeed": "56"
                                },
                                {
                                    "Age": "35",
                                    "AvgSprintSpeed": "48"
                                },
                                {
                                    "Age": "36",
                                    "AvgSprintSpeed": "48"
                                },
                                {
                                    "Age": "37",
                                    "AvgSprintSpeed": "43"
                                },
                                {
                                    "Age": "38",
                                    "AvgSprintSpeed": "40"
                                },
                                {
                                    "Age": "39",
                                    "AvgSprintSpeed": "42"
                                },
                                {
                                    "Age": "40",
                                    "AvgSprintSpeed": "36"
                                },
                                {
                                    "Age": "41",
                                    "AvgSprintSpeed": "44"
                                },
                                {
                                    "Age": "42",
                                    "AvgSprintSpeed": "56"
                                },
                                {
                                    "Age": "44",
                                    "AvgSprintSpeed": "19"
                                },
                                {
                                    "Age": "45",
                                    "AvgSprintSpeed": "57"
                                }
                            ]
                        },
                        "text/html": "<table><tr><th>Age</th><th>AvgSprintSpeed</th></tr><tr><td>16</td><td>63</td></tr><tr><td>17</td><td>61</td></tr><tr><td>18</td><td>62</td></tr><tr><td>19</td><td>63</td></tr><tr><td>20</td><td>65</td></tr><tr><td>21</td><td>65</td></tr><tr><td>22</td><td>66</td></tr><tr><td>23</td><td>67</td></tr><tr><td>24</td><td>67</td></tr><tr><td>25</td><td>67</td></tr><tr><td>26</td><td>67</td></tr><tr><td>27</td><td>66</td></tr><tr><td>28</td><td>66</td></tr><tr><td>29</td><td>63</td></tr><tr><td>30</td><td>64</td></tr><tr><td>31</td><td>62</td></tr><tr><td>32</td><td>58</td></tr><tr><td>33</td><td>55</td></tr><tr><td>34</td><td>56</td></tr><tr><td>35</td><td>48</td></tr><tr><td>36</td><td>48</td></tr><tr><td>37</td><td>43</td></tr><tr><td>38</td><td>40</td></tr><tr><td>39</td><td>42</td></tr><tr><td>40</td><td>36</td></tr><tr><td>41</td><td>44</td></tr><tr><td>42</td><td>56</td></tr><tr><td>44</td><td>19</td></tr><tr><td>45</td><td>57</td></tr></table>"
                    },
                    "metadata": {
                        "azdata_chartOptions": {
                            "type": "line",
                            "dataDirection": "vertical",
                            "columnsAsLabels": true,
                            "labelFirstColumn": true,
                            "legendPosition": "top",
                            "yAxisLabel": "Sprint Speed",
                            "xAxisLabel": "AGE",
                            "dataType": "point"
                        }
                    }
                }
            ],
            "execution_count": 18
        },
        {
            "cell_type": "markdown",
            "source": [
                ""
            ],
            "metadata": {
                "language": "sql",
                "azdata_cell_guid": "f1a98aac-44d5-4ffd-b072-e309366ab071"
            }
        },
        {
            "cell_type": "markdown",
            "source": [
                "# **_5_** _**Average Strength of Spanish Players by Age Group with More Than 5 Players**_\n",
                "\n",
                "_So, the query retrieves the average strength of Spanish players, grouped by age, only including age groups with more than 5 players, and displays them in descending order of age._"
            ],
            "metadata": {
                "language": "sql",
                "azdata_cell_guid": "54240b4e-fe06-4dee-8aa7-ff034da6174d"
            },
            "attachments": {}
        },
        {
            "cell_type": "code",
            "source": [
                "SELECT p.Age, AVG(CAST(p.Strength AS INT)) AS AvgStrength\r\n",
                "FROM [data] p\r\n",
                "WHERE p.Nationality = 'Spain'\r\n",
                "GROUP BY p.Age\r\n",
                "HAVING COUNT(p.ID) > 5\r\n",
                "ORDER BY p.Age desc;\r\n",
                ""
            ],
            "metadata": {
                "language": "sql",
                "azdata_cell_guid": "f44f5c61-706a-41df-b6eb-f9a37ae77337"
            },
            "outputs": [
                {
                    "output_type": "display_data",
                    "data": {
                        "text/html": "(21 rows affected)"
                    },
                    "metadata": {}
                },
                {
                    "output_type": "display_data",
                    "data": {
                        "text/html": "Total execution time: 00:00:00.031"
                    },
                    "metadata": {}
                },
                {
                    "output_type": "execute_result",
                    "execution_count": 5,
                    "data": {
                        "application/vnd.dataresource+json": {
                            "schema": {
                                "fields": [
                                    {
                                        "name": "Age"
                                    },
                                    {
                                        "name": "AvgStrength"
                                    }
                                ]
                            },
                            "data": [
                                {
                                    "Age": "37",
                                    "AvgStrength": "71"
                                },
                                {
                                    "Age": "36",
                                    "AvgStrength": "74"
                                },
                                {
                                    "Age": "35",
                                    "AvgStrength": "71"
                                },
                                {
                                    "Age": "34",
                                    "AvgStrength": "68"
                                },
                                {
                                    "Age": "33",
                                    "AvgStrength": "69"
                                },
                                {
                                    "Age": "32",
                                    "AvgStrength": "70"
                                },
                                {
                                    "Age": "31",
                                    "AvgStrength": "70"
                                },
                                {
                                    "Age": "30",
                                    "AvgStrength": "66"
                                },
                                {
                                    "Age": "29",
                                    "AvgStrength": "72"
                                },
                                {
                                    "Age": "28",
                                    "AvgStrength": "69"
                                },
                                {
                                    "Age": "27",
                                    "AvgStrength": "66"
                                },
                                {
                                    "Age": "26",
                                    "AvgStrength": "68"
                                },
                                {
                                    "Age": "25",
                                    "AvgStrength": "65"
                                },
                                {
                                    "Age": "24",
                                    "AvgStrength": "63"
                                },
                                {
                                    "Age": "23",
                                    "AvgStrength": "62"
                                },
                                {
                                    "Age": "22",
                                    "AvgStrength": "58"
                                },
                                {
                                    "Age": "21",
                                    "AvgStrength": "59"
                                },
                                {
                                    "Age": "20",
                                    "AvgStrength": "54"
                                },
                                {
                                    "Age": "19",
                                    "AvgStrength": "54"
                                },
                                {
                                    "Age": "18",
                                    "AvgStrength": "53"
                                },
                                {
                                    "Age": "17",
                                    "AvgStrength": "51"
                                }
                            ]
                        },
                        "text/html": "<table><tr><th>Age</th><th>AvgStrength</th></tr><tr><td>37</td><td>71</td></tr><tr><td>36</td><td>74</td></tr><tr><td>35</td><td>71</td></tr><tr><td>34</td><td>68</td></tr><tr><td>33</td><td>69</td></tr><tr><td>32</td><td>70</td></tr><tr><td>31</td><td>70</td></tr><tr><td>30</td><td>66</td></tr><tr><td>29</td><td>72</td></tr><tr><td>28</td><td>69</td></tr><tr><td>27</td><td>66</td></tr><tr><td>26</td><td>68</td></tr><tr><td>25</td><td>65</td></tr><tr><td>24</td><td>63</td></tr><tr><td>23</td><td>62</td></tr><tr><td>22</td><td>58</td></tr><tr><td>21</td><td>59</td></tr><tr><td>20</td><td>54</td></tr><tr><td>19</td><td>54</td></tr><tr><td>18</td><td>53</td></tr><tr><td>17</td><td>51</td></tr></table>"
                    },
                    "metadata": {
                        "azdata_chartOptions": {
                            "type": "bar",
                            "dataDirection": "horizontal",
                            "columnsAsLabels": true,
                            "labelFirstColumn": true,
                            "legendPosition": "top",
                            "yAxisLabel": "Avg Strength",
                            "xAxisLabel": "Age"
                        }
                    }
                }
            ],
            "execution_count": 5
        }
    ]
}